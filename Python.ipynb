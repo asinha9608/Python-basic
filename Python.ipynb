{
  "nbformat": 4,
  "nbformat_minor": 0,
  "metadata": {
    "colab": {
      "provenance": []
    },
    "kernelspec": {
      "name": "python3",
      "display_name": "Python 3"
    },
    "language_info": {
      "name": "python"
    }
  },
  "cells": [
    {
      "cell_type": "code",
      "execution_count": null,
      "metadata": {
        "id": "KbsjOEFnL7mL"
      },
      "outputs": [],
      "source": []
    },
    {
      "cell_type": "markdown",
      "source": [
        "# Python\n"
      ],
      "metadata": {
        "id": "HSagXlwYMMhM"
      }
    },
    {
      "cell_type": "markdown",
      "source": [
        "1. What is Python, and why is it popular?\n",
        "-> Python is a programming language that is widely used in web applications,data industry,and machine learning. Developers use Python because it is efficient and easy to learn and can run on many differnt platforms.\n",
        "\n",
        "2. What is an interpreter in Python?\n",
        "-> A python interpreter is a computer program that converts each high-level program statement into machine code. An interpreter translates the command that you write out into code that the computer can understand.\n",
        "\n",
        "3. What are pre-defined keywords in Python?\n",
        "-> Pre-defined keywords in python is reserved identifiers that have special meanings to the complier.\n",
        "\n",
        "4. Can keywords be used as variable names?\n",
        "-> Keywords define the language's syntax rules and stucture, and they cannot be used as variable names.\n",
        "\n",
        "5. What is mutability in Python?\n",
        "-> Mutability in python refers to the capability of an object to be changed or modified after its creation.\n",
        "\n",
        "6. Why are lists mutable, but tuples are immutable?\n",
        "-> The main difference between tuples and lists is that tuples are immutable, meaning their contents cannot be changed after creation, while lists are mutable and can be modified. Additionally, tuples are more memory-efficient compared to lists. Tuples can't be changed after they're created, but lists can be modified.\n",
        "\n",
        "7. What is the difference between “==” and “is” operators in Python?\n",
        "-> Difference between \"==\" and \"is\" operators in python.\n",
        "   The '=='is known as the equality operator. The 'is' is known as the identity operator. The == operator helps us compare the equlaity of objects. The is operator helps us check whether different variables point towards a similar object in the memory.\n",
        "\n",
        "8. What are logical operators in Python?\n",
        "-> In python, logical operators are used to cobine multiple conditions together and evaluate them as a single boolean expression.\n",
        "\n",
        "9. What is type casting in Python?\n",
        "-> Type casting,also known as type conversion,is the process of converting one data type into another.\n",
        "\n",
        "10. What is the difference between implicit and explicit type casting?\n",
        "-> An implicit type conversion is automatically perfored by the complier when performed by the compiler when differing data types are intermixed in an expression. An explicit type conversion is user-defined conversion that forces an expression to be of specific type. An implicit type conversion is performed without programmer's intervention.\n",
        "\n",
        "11. What is the purpose of conditional statements in Python?\n",
        "-> Conditional statements are an essential part of programming in python. They allow you to make decisions based on the values of variables or the result of comparisons.\n",
        "\n",
        "12. How does the elif statement work?\n",
        "->  The 'elif' keyword in python, stands for \"else if\". It can be used in conditional statements to check for muttiple condiltions.\n",
        "\n",
        "13. What is the difference between for and while loops?\n",
        "->  The for loop provides its users with a concise way in which they can write the loop structure. It provides a very easy to debug and short looping structure. The while loop is a type of continuous flow statement that basically allows the repeated execuation of a code on the basis of any given Boolean condition.\n",
        "\n",
        "14. Describe a scenario where a while loop is more suitable than a for loop?\n",
        "->  A for loop is usually better when you want a piece of code to run a certain number of times, and a while loop is better when the condition for the code to keep running is more general, such as having a boolean flag that is only set to true when a certain conditon is met in the code block.\n",
        "\n",
        "\n",
        "\n",
        "\n",
        "\n",
        "\n",
        "\n",
        "  \n",
        "\n",
        "\n",
        "\n",
        "\n",
        "\n"
      ],
      "metadata": {
        "id": "nW3dZURRMgoO"
      }
    },
    {
      "cell_type": "markdown",
      "source": [
        "Practical Questions.\n",
        "\n",
        "1. Write a Python program to print \"Hello, World!\n",
        "\n",
        "\n"
      ],
      "metadata": {
        "id": "T_HW2UXArt-5"
      }
    },
    {
      "cell_type": "code",
      "source": [
        "print(\"Hello world!\")"
      ],
      "metadata": {
        "colab": {
          "base_uri": "https://localhost:8080/"
        },
        "id": "vY52-sfouAgY",
        "outputId": "3485c7b1-2232-4977-d292-f5464d6fcd0f"
      },
      "execution_count": null,
      "outputs": [
        {
          "output_type": "stream",
          "name": "stdout",
          "text": [
            "Hello world!\n"
          ]
        }
      ]
    },
    {
      "cell_type": "markdown",
      "source": [
        "2. Write a Python program that displays your name and age.\n",
        "\n"
      ],
      "metadata": {
        "id": "7Bq9BA6muiqb"
      }
    },
    {
      "cell_type": "code",
      "source": [
        "name = \"Ankit kumar sinha\"\n",
        "age = 25\n",
        "print(f\"Hello, my name is {name} and I am {age} years old.\")"
      ],
      "metadata": {
        "colab": {
          "base_uri": "https://localhost:8080/"
        },
        "id": "q_-H_c13uvQ-",
        "outputId": "4aa7f6f1-126f-431e-df9f-efbc4cfdcd84"
      },
      "execution_count": null,
      "outputs": [
        {
          "output_type": "stream",
          "name": "stdout",
          "text": [
            "Hello, my name is Ankit kumar sinha and I am 25 years old.\n"
          ]
        }
      ]
    },
    {
      "cell_type": "markdown",
      "source": [
        "3.  Write code to print all the pre-defined keywords in Python using the keyword library.\n"
      ],
      "metadata": {
        "id": "oA92kfKlxtWg"
      }
    },
    {
      "cell_type": "code",
      "source": [
        "import keyword\n",
        "print(keyword.kwlist)"
      ],
      "metadata": {
        "colab": {
          "base_uri": "https://localhost:8080/"
        },
        "id": "Y5cAu0eqzIEn",
        "outputId": "56285434-9510-4c01-89bd-126604c2a995"
      },
      "execution_count": null,
      "outputs": [
        {
          "output_type": "stream",
          "name": "stdout",
          "text": [
            "['False', 'None', 'True', 'and', 'as', 'assert', 'async', 'await', 'break', 'class', 'continue', 'def', 'del', 'elif', 'else', 'except', 'finally', 'for', 'from', 'global', 'if', 'import', 'in', 'is', 'lambda', 'nonlocal', 'not', 'or', 'pass', 'raise', 'return', 'try', 'while', 'with', 'yield']\n"
          ]
        }
      ]
    },
    {
      "cell_type": "markdown",
      "source": [
        "4. Write a program that checks if a given word is a Python keyword.\n"
      ],
      "metadata": {
        "id": "qHz0FaY2ztZu"
      }
    },
    {
      "cell_type": "code",
      "source": [
        "import keyword\n",
        "s=input('enter any word')\n",
        "if keyword.iskeyword(s):\n",
        "  print('your entered word is keyword in python')\n",
        "else:\n",
        "    print('your entered word is not a keyword in python')"
      ],
      "metadata": {
        "colab": {
          "base_uri": "https://localhost:8080/",
          "height": 356
        },
        "id": "gpjkCy_qz5G2",
        "outputId": "42c96db3-1c9b-49d4-c7e5-20379e74e101"
      },
      "execution_count": null,
      "outputs": [
        {
          "output_type": "error",
          "ename": "KeyboardInterrupt",
          "evalue": "Interrupted by user",
          "traceback": [
            "\u001b[0;31m---------------------------------------------------------------------------\u001b[0m",
            "\u001b[0;31mKeyboardInterrupt\u001b[0m                         Traceback (most recent call last)",
            "\u001b[0;32m<ipython-input-15-990d180ac5b3>\u001b[0m in \u001b[0;36m<cell line: 0>\u001b[0;34m()\u001b[0m\n\u001b[1;32m      1\u001b[0m \u001b[0;32mimport\u001b[0m \u001b[0mkeyword\u001b[0m\u001b[0;34m\u001b[0m\u001b[0;34m\u001b[0m\u001b[0m\n\u001b[0;32m----> 2\u001b[0;31m \u001b[0ms\u001b[0m\u001b[0;34m=\u001b[0m\u001b[0minput\u001b[0m\u001b[0;34m(\u001b[0m\u001b[0;34m'enter any word'\u001b[0m\u001b[0;34m)\u001b[0m\u001b[0;34m\u001b[0m\u001b[0;34m\u001b[0m\u001b[0m\n\u001b[0m\u001b[1;32m      3\u001b[0m \u001b[0;32mif\u001b[0m \u001b[0mkeyword\u001b[0m\u001b[0;34m.\u001b[0m\u001b[0miskeyword\u001b[0m\u001b[0;34m(\u001b[0m\u001b[0ms\u001b[0m\u001b[0;34m)\u001b[0m\u001b[0;34m:\u001b[0m\u001b[0;34m\u001b[0m\u001b[0;34m\u001b[0m\u001b[0m\n\u001b[1;32m      4\u001b[0m   \u001b[0mprint\u001b[0m\u001b[0;34m(\u001b[0m\u001b[0;34m'your entered word is keyword in python'\u001b[0m\u001b[0;34m)\u001b[0m\u001b[0;34m\u001b[0m\u001b[0;34m\u001b[0m\u001b[0m\n\u001b[1;32m      5\u001b[0m \u001b[0;32melse\u001b[0m\u001b[0;34m:\u001b[0m\u001b[0;34m\u001b[0m\u001b[0;34m\u001b[0m\u001b[0m\n",
            "\u001b[0;32m/usr/local/lib/python3.11/dist-packages/ipykernel/kernelbase.py\u001b[0m in \u001b[0;36mraw_input\u001b[0;34m(self, prompt)\u001b[0m\n\u001b[1;32m    849\u001b[0m                 \u001b[0;34m\"raw_input was called, but this frontend does not support input requests.\"\u001b[0m\u001b[0;34m\u001b[0m\u001b[0;34m\u001b[0m\u001b[0m\n\u001b[1;32m    850\u001b[0m             )\n\u001b[0;32m--> 851\u001b[0;31m         return self._input_request(str(prompt),\n\u001b[0m\u001b[1;32m    852\u001b[0m             \u001b[0mself\u001b[0m\u001b[0;34m.\u001b[0m\u001b[0m_parent_ident\u001b[0m\u001b[0;34m,\u001b[0m\u001b[0;34m\u001b[0m\u001b[0;34m\u001b[0m\u001b[0m\n\u001b[1;32m    853\u001b[0m             \u001b[0mself\u001b[0m\u001b[0;34m.\u001b[0m\u001b[0m_parent_header\u001b[0m\u001b[0;34m,\u001b[0m\u001b[0;34m\u001b[0m\u001b[0;34m\u001b[0m\u001b[0m\n",
            "\u001b[0;32m/usr/local/lib/python3.11/dist-packages/ipykernel/kernelbase.py\u001b[0m in \u001b[0;36m_input_request\u001b[0;34m(self, prompt, ident, parent, password)\u001b[0m\n\u001b[1;32m    893\u001b[0m             \u001b[0;32mexcept\u001b[0m \u001b[0mKeyboardInterrupt\u001b[0m\u001b[0;34m:\u001b[0m\u001b[0;34m\u001b[0m\u001b[0;34m\u001b[0m\u001b[0m\n\u001b[1;32m    894\u001b[0m                 \u001b[0;31m# re-raise KeyboardInterrupt, to truncate traceback\u001b[0m\u001b[0;34m\u001b[0m\u001b[0;34m\u001b[0m\u001b[0m\n\u001b[0;32m--> 895\u001b[0;31m                 \u001b[0;32mraise\u001b[0m \u001b[0mKeyboardInterrupt\u001b[0m\u001b[0;34m(\u001b[0m\u001b[0;34m\"Interrupted by user\"\u001b[0m\u001b[0;34m)\u001b[0m \u001b[0;32mfrom\u001b[0m \u001b[0;32mNone\u001b[0m\u001b[0;34m\u001b[0m\u001b[0;34m\u001b[0m\u001b[0m\n\u001b[0m\u001b[1;32m    896\u001b[0m             \u001b[0;32mexcept\u001b[0m \u001b[0mException\u001b[0m \u001b[0;32mas\u001b[0m \u001b[0me\u001b[0m\u001b[0;34m:\u001b[0m\u001b[0;34m\u001b[0m\u001b[0;34m\u001b[0m\u001b[0m\n\u001b[1;32m    897\u001b[0m                 \u001b[0mself\u001b[0m\u001b[0;34m.\u001b[0m\u001b[0mlog\u001b[0m\u001b[0;34m.\u001b[0m\u001b[0mwarning\u001b[0m\u001b[0;34m(\u001b[0m\u001b[0;34m\"Invalid Message:\"\u001b[0m\u001b[0;34m,\u001b[0m \u001b[0mexc_info\u001b[0m\u001b[0;34m=\u001b[0m\u001b[0;32mTrue\u001b[0m\u001b[0;34m)\u001b[0m\u001b[0;34m\u001b[0m\u001b[0;34m\u001b[0m\u001b[0m\n",
            "\u001b[0;31mKeyboardInterrupt\u001b[0m: Interrupted by user"
          ]
        }
      ]
    },
    {
      "cell_type": "markdown",
      "source": [
        "5. 5. Create a list and tuple in Python, and demonstrate how attempting to change an element works differently for each.\n",
        "\n"
      ],
      "metadata": {
        "id": "z4wmA0_63EcJ"
      }
    },
    {
      "cell_type": "code",
      "source": [
        "mylist = [\"Neymar\", \"Messi\",3.5,50]\n",
        "print(\"List = \",mylist)\n",
        "mytuple = tuple(mylist)\n",
        "\n",
        "print(\"Tuple = \",mytuple)"
      ],
      "metadata": {
        "id": "yRi8eIdD3Rna"
      },
      "execution_count": null,
      "outputs": []
    },
    {
      "cell_type": "markdown",
      "source": [
        "6. Write a function to demonstrate the behavior of mutable and immutable arguments."
      ],
      "metadata": {
        "id": "KAKKv-nQq-Pl"
      }
    },
    {
      "cell_type": "code",
      "source": [
        "my_list = [10,20,30,40,50]\n",
        "print(my_list)\n",
        "print(id(my_list))\n",
        "my_list[0]=555\n",
        "print(my_list)\n",
        "print(id(my_list))#same address means mutability\n",
        "1[0]=555\n",
        "print(1)\n",
        "print(id(1))#same address means mutability\n"
      ],
      "metadata": {
        "colab": {
          "base_uri": "https://localhost:8080/",
          "height": 280
        },
        "id": "NaMYIvs_tDk2",
        "outputId": "1cdc45f6-4da3-40c6-9dde-36cd85618767"
      },
      "execution_count": null,
      "outputs": [
        {
          "output_type": "stream",
          "name": "stdout",
          "text": [
            "[10, 20, 30, 40, 50]\n",
            "132671928574400\n",
            "[555, 20, 30, 40, 50]\n",
            "132671928574400\n"
          ]
        },
        {
          "output_type": "error",
          "ename": "TypeError",
          "evalue": "'int' object does not support item assignment",
          "traceback": [
            "\u001b[0;31m---------------------------------------------------------------------------\u001b[0m",
            "\u001b[0;31mTypeError\u001b[0m                                 Traceback (most recent call last)",
            "\u001b[0;32m<ipython-input-4-16264eff071e>\u001b[0m in \u001b[0;36m<cell line: 0>\u001b[0;34m()\u001b[0m\n\u001b[1;32m      5\u001b[0m \u001b[0mprint\u001b[0m\u001b[0;34m(\u001b[0m\u001b[0mmy_list\u001b[0m\u001b[0;34m)\u001b[0m\u001b[0;34m\u001b[0m\u001b[0;34m\u001b[0m\u001b[0m\n\u001b[1;32m      6\u001b[0m \u001b[0mprint\u001b[0m\u001b[0;34m(\u001b[0m\u001b[0mid\u001b[0m\u001b[0;34m(\u001b[0m\u001b[0mmy_list\u001b[0m\u001b[0;34m)\u001b[0m\u001b[0;34m)\u001b[0m\u001b[0;31m#same address means mutability\u001b[0m\u001b[0;34m\u001b[0m\u001b[0;34m\u001b[0m\u001b[0m\n\u001b[0;32m----> 7\u001b[0;31m \u001b[0;36m1\u001b[0m\u001b[0;34m[\u001b[0m\u001b[0;36m0\u001b[0m\u001b[0;34m]\u001b[0m\u001b[0;34m=\u001b[0m\u001b[0;36m555\u001b[0m\u001b[0;34m\u001b[0m\u001b[0;34m\u001b[0m\u001b[0m\n\u001b[0m\u001b[1;32m      8\u001b[0m \u001b[0mprint\u001b[0m\u001b[0;34m(\u001b[0m\u001b[0;36m1\u001b[0m\u001b[0;34m)\u001b[0m\u001b[0;34m\u001b[0m\u001b[0;34m\u001b[0m\u001b[0m\n\u001b[1;32m      9\u001b[0m \u001b[0mprint\u001b[0m\u001b[0;34m(\u001b[0m\u001b[0mid\u001b[0m\u001b[0;34m(\u001b[0m\u001b[0;36m1\u001b[0m\u001b[0;34m)\u001b[0m\u001b[0;34m)\u001b[0m\u001b[0;31m#same address means mutability\u001b[0m\u001b[0;34m\u001b[0m\u001b[0;34m\u001b[0m\u001b[0m\n",
            "\u001b[0;31mTypeError\u001b[0m: 'int' object does not support item assignment"
          ]
        }
      ]
    },
    {
      "cell_type": "code",
      "source": [
        "l1=[50,60,70,80]\n",
        "l2=l1\n",
        "l1[0]=5555\n",
        "print(l1)\n",
        "print(l2)\n",
        "l2[1]=888\n",
        "print(l1)\n",
        "print(l2)\n",
        "print(11)\n",
        "print(12)\n",
        "12[1]=888\n",
        "print(11)\n",
        "print(12)"
      ],
      "metadata": {
        "colab": {
          "base_uri": "https://localhost:8080/",
          "height": 106
        },
        "id": "b0zVrayP4cQw",
        "outputId": "f4368008-e024-47d3-e476-3e5885db4341"
      },
      "execution_count": null,
      "outputs": [
        {
          "output_type": "error",
          "ename": "SyntaxError",
          "evalue": "cannot assign to literal here. Maybe you meant '==' instead of '='? (<ipython-input-5-a977cbf2c135>, line 1)",
          "traceback": [
            "\u001b[0;36m  File \u001b[0;32m\"<ipython-input-5-a977cbf2c135>\"\u001b[0;36m, line \u001b[0;32m1\u001b[0m\n\u001b[0;31m    11=[50,60,70,80]\u001b[0m\n\u001b[0m    ^\u001b[0m\n\u001b[0;31mSyntaxError\u001b[0m\u001b[0;31m:\u001b[0m cannot assign to literal here. Maybe you meant '==' instead of '='?\n"
          ]
        }
      ]
    },
    {
      "cell_type": "markdown",
      "source": [
        "7. Write a program that performs basic arithmetic operations on two user-input numbers."
      ],
      "metadata": {
        "id": "hNCy187e5Svl"
      }
    },
    {
      "cell_type": "code",
      "source": [
        "print(f\"Addition: {10} + {2} = {10 + 2}\")\n",
        "print(f\"Subtraction: {10} - {2} = {10 - 2}\")\n",
        "print(f\"Multiplication: {10} * {2} = {10 * 2}\")\n",
        "print(f\"Division: {10} / {2} = {10 / 2}\")"
      ],
      "metadata": {
        "colab": {
          "base_uri": "https://localhost:8080/"
        },
        "id": "7NmaIid18lGu",
        "outputId": "7e961f9e-a82c-44cc-e5e7-34cb6eacc0f5"
      },
      "execution_count": null,
      "outputs": [
        {
          "output_type": "stream",
          "name": "stdout",
          "text": [
            "Addition: 10 + 2 = 12\n",
            "Subtraction: 10 - 2 = 8\n",
            "Multiplication: 10 * 2 = 20\n",
            "Division: 10 / 2 = 5.0\n"
          ]
        }
      ]
    },
    {
      "cell_type": "markdown",
      "source": [
        "8. Write a program to demonstrate the use of logical operators.\n"
      ],
      "metadata": {
        "id": "4DrAxnTY9KEK"
      }
    },
    {
      "cell_type": "code",
      "source": [
        "a=5\n",
        "b=3\n",
        "c=7\n",
        "d=5\n",
        "# Logical AND\n",
        "print(\"Logical AND:\")\n",
        "print(a>b and a>c)\n",
        "print(a>b and a == d)"
      ],
      "metadata": {
        "colab": {
          "base_uri": "https://localhost:8080/"
        },
        "id": "JQSLvw7B9OfU",
        "outputId": "7c0e65d9-5d1b-4f62-c6c4-a6a47195e1a1"
      },
      "execution_count": null,
      "outputs": [
        {
          "output_type": "stream",
          "name": "stdout",
          "text": [
            "Logical AND:\n",
            "False\n",
            "True\n"
          ]
        }
      ]
    },
    {
      "cell_type": "markdown",
      "source": [
        "9. Write a Python program to convert user input from string to integer, float, and boolean types."
      ],
      "metadata": {
        "id": "hkGcRpdv-Oy3"
      }
    },
    {
      "cell_type": "code",
      "source": [
        "# Convert to integer\n",
        "try:\n",
        "     int_value= int(user_input)\n",
        "     print(f\"integer value: {int_value}\")\n",
        "except ValueError:\n",
        "    print(\"Invalid input. Please enter a valid integer.\")\n",
        ""
      ],
      "metadata": {
        "id": "bPJR4vds-TNN"
      },
      "execution_count": null,
      "outputs": []
    },
    {
      "cell_type": "markdown",
      "source": [
        "  10. Write code to demonstrate type casting with list elements."
      ],
      "metadata": {
        "id": "qfM-e0a6v2fx"
      }
    },
    {
      "cell_type": "code",
      "source": [
        "# Define a list with mixed data types\n",
        "my_list = [1 ,'2' , 3.0, 'four' , True, [5, 6], {'a' : 7}]\n",
        "\n",
        "# print original list\n",
        "print(\"orignal list:\")\n",
        "print(my_list)"
      ],
      "metadata": {
        "colab": {
          "base_uri": "https://localhost:8080/"
        },
        "id": "VJUS2yTHwSSs",
        "outputId": "da9439cb-ad9a-416e-af8c-cdb3f9fe2fb2"
      },
      "execution_count": 1,
      "outputs": [
        {
          "output_type": "stream",
          "name": "stdout",
          "text": [
            "orignal list:\n",
            "[1, '2', 3.0, 'four', True, [5, 6], {'a': 7}]\n"
          ]
        }
      ]
    },
    {
      "cell_type": "markdown",
      "source": [
        "   11. Write a program that checks if a number is positive, negative, or zero."
      ],
      "metadata": {
        "id": "_hwCoLpoyOn7"
      }
    },
    {
      "cell_type": "code",
      "source": [
        "def check_number(x):\n",
        "def check_number(x):\n",
        "  if x > 0:\n",
        "     print(f\"{x} is a positive number.\")\n",
        "  elif x < 0:\n",
        "      print(f\"{x} is a negative number.\")\n",
        "  else:\n",
        "      print(f\"{x} is zero.\")\n",
        "      num = float(input(\"0: \"))\n",
        "      check_number(num)\n",
        "      num = float(input(\"0: \"))\n",
        "      check_number(num)"
      ],
      "metadata": {
        "colab": {
          "base_uri": "https://localhost:8080/",
          "height": 106
        },
        "id": "mta-8qrZyZXa",
        "outputId": "7693965b-bf2b-44c5-bbee-48ddd2187fca"
      },
      "execution_count": 4,
      "outputs": [
        {
          "output_type": "error",
          "ename": "SyntaxError",
          "evalue": "invalid syntax (<ipython-input-4-e9c8b7274aff>, line 4)",
          "traceback": [
            "\u001b[0;36m  File \u001b[0;32m\"<ipython-input-4-e9c8b7274aff>\"\u001b[0;36m, line \u001b[0;32m4\u001b[0m\n\u001b[0;31m    elif x < 0:\u001b[0m\n\u001b[0m    ^\u001b[0m\n\u001b[0;31mSyntaxError\u001b[0m\u001b[0;31m:\u001b[0m invalid syntax\n"
          ]
        }
      ]
    },
    {
      "cell_type": "markdown",
      "source": [],
      "metadata": {
        "id": "QESLdTDi1Kp6"
      }
    },
    {
      "cell_type": "markdown",
      "source": [
        "   12. Write a for loop to print numbers from 1 to 10."
      ],
      "metadata": {
        "id": "fs88gXkK1RHW"
      }
    },
    {
      "cell_type": "code",
      "source": [
        "for i in range(1, 11):\n",
        "  print(i)"
      ],
      "metadata": {
        "colab": {
          "base_uri": "https://localhost:8080/"
        },
        "id": "C955iZZn1YnP",
        "outputId": "a29f2c70-d80d-4012-f7d0-8b8bac1485c6"
      },
      "execution_count": 5,
      "outputs": [
        {
          "output_type": "stream",
          "name": "stdout",
          "text": [
            "1\n",
            "2\n",
            "3\n",
            "4\n",
            "5\n",
            "6\n",
            "7\n",
            "8\n",
            "9\n",
            "10\n"
          ]
        }
      ]
    },
    {
      "cell_type": "markdown",
      "source": [
        "   13. Write a Python program to find the sum of all even numbers between 1 and 50."
      ],
      "metadata": {
        "id": "UI9Hv-mE1uIi"
      }
    },
    {
      "cell_type": "code",
      "source": [
        "def sum_even_numbers(start, end):\n",
        "    even_sum = 0\n",
        "    for num in range(start, end + 1):\n",
        "        if num % 2 == 0:\n",
        "            even_sum += num\n",
        "    return even_sum  # Return the total sum after the loop\n",
        "start = 1\n",
        "end = 50\n",
        "result = sum_even_numbers(start, end)\n",
        "print(f\"The sum of even numbers between {start} and {end} is: {result}\")\n",
        "\n",
        "\n",
        "\n",
        "\n"
      ],
      "metadata": {
        "colab": {
          "base_uri": "https://localhost:8080/"
        },
        "id": "jEzrpG9q10sv",
        "outputId": "a8dcfb06-5dd9-43e5-872e-3e5611398b4e"
      },
      "execution_count": 16,
      "outputs": [
        {
          "output_type": "stream",
          "name": "stdout",
          "text": [
            "The sum of even numbers between 1 and 50 is: 650\n"
          ]
        }
      ]
    },
    {
      "cell_type": "markdown",
      "source": [
        "  14.  Write a program to reverse a string using a while loop.\n"
      ],
      "metadata": {
        "id": "M3x9TgJT4rWH"
      }
    },
    {
      "cell_type": "code",
      "source": [
        "def reverse_string(input_string):\n",
        "    reversed_string = \"\"\n",
        "    index = len(input_string) - 1\n",
        "    while index >= 0:\n",
        "        reversed_string += input_string[index]\n",
        "        index -= 1\n",
        "    return reversed_string\n",
        "\n",
        "    input_str = input(\"Hello world:\")\n",
        "    print(\"Reversed string:\", reverse_string(input_str))"
      ],
      "metadata": {
        "id": "WXTdJiHz4x0o"
      },
      "execution_count": 20,
      "outputs": []
    },
    {
      "cell_type": "markdown",
      "source": [
        "  15. Write a Python program to calculate the factorial of a number provided by the user using a while loop."
      ],
      "metadata": {
        "id": "navWYPvZ6SsY"
      }
    },
    {
      "cell_type": "code",
      "source": [
        "def calculate_factorial(number):\n",
        "    factorial = 1\n",
        "    i = 1\n",
        "    while i <= num:\n",
        "        factorial *= i\n",
        "        i += 1\n",
        "        return factorial\n",
        "num = int(input(\"5:\"))\n",
        "if num < 0:\n",
        "  print(\"factorial is not defined for negative numbers.\")\n",
        "elif num == 0:\n",
        "  print(\"The factorial of 0 is 1.\")\n",
        "def calculate_factorial(number):\n",
        "    factorial = 1\n",
        "    i = 1\n",
        "    while i <= number:\n",
        "        factorial *= i\n",
        "        i += 1\n",
        "    return factorial\n",
        "num = int(input(\"5:\"))\n",
        "if num < 0:\n",
        "  print(\"factorial is not defined for negative numbers.\")\n",
        "elif num == 0:\n",
        "  print(\"The factorial of 0 is 1.\")\n",
        "else:\n",
        "  result = calculate_factorial(num)\n",
        "  print(f\"The factorial of {num} is {result}.\")"
      ],
      "metadata": {
        "colab": {
          "base_uri": "https://localhost:8080/",
          "height": 106
        },
        "id": "n5PdUQ9h6ZsK",
        "outputId": "4ac38dee-98aa-4ef8-e3c6-9b680baa80ad"
      },
      "execution_count": 21,
      "outputs": [
        {
          "output_type": "error",
          "ename": "SyntaxError",
          "evalue": "unterminated string literal (detected at line 15) (<ipython-input-21-272e244efa60>, line 15)",
          "traceback": [
            "\u001b[0;36m  File \u001b[0;32m\"<ipython-input-21-272e244efa60>\"\u001b[0;36m, line \u001b[0;32m15\u001b[0m\n\u001b[0;31m    print(f\"The factorial of {num} is {result}.\u001b[0m\n\u001b[0m          ^\u001b[0m\n\u001b[0;31mSyntaxError\u001b[0m\u001b[0;31m:\u001b[0m unterminated string literal (detected at line 15)\n"
          ]
        }
      ]
    }
  ]
}